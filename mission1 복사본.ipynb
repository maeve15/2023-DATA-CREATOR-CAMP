{
  "cells": [
    {
      "cell_type": "code",
      "execution_count": null,
      "metadata": {
        "colab": {
          "base_uri": "https://localhost:8080/"
        },
        "id": "44LHyOHOCGTO",
        "outputId": "5680578f-a485-4365-9b4d-f171a9681336"
      },
      "outputs": [
        {
          "name": "stdout",
          "output_type": "stream",
          "text": [
            "Drive already mounted at /content/drive; to attempt to forcibly remount, call drive.mount(\"/content/drive\", force_remount=True).\n"
          ]
        }
      ],
      "source": [
        "from google.colab import drive\n",
        "drive.mount('/content/drive')"
      ]
    },
    {
      "cell_type": "code",
      "execution_count": null,
      "metadata": {
        "colab": {
          "base_uri": "https://localhost:8080/"
        },
        "id": "cJlj63bgC9_6",
        "outputId": "940e92c6-6d27-401b-d825-7d0601cfd485"
      },
      "outputs": [
        {
          "name": "stdout",
          "output_type": "stream",
          "text": [
            "/content/drive/MyDrive/train\n"
          ]
        }
      ],
      "source": [
        "cd/content/drive/MyDrive/train"
      ]
    },
    {
      "cell_type": "code",
      "execution_count": null,
      "metadata": {
        "colab": {
          "base_uri": "https://localhost:8080/"
        },
        "id": "9TkfkW3gDHfT",
        "outputId": "e12089da-c0c2-4ae9-af9a-78ff546db2c0"
      },
      "outputs": [
        {
          "name": "stdout",
          "output_type": "stream",
          "text": [
            "\u001b[0m\u001b[01;34m갈비구이\u001b[0m/  \u001b[01;34m계란후라이\u001b[0m/  \u001b[01;34m꿀떡\u001b[0m/      \u001b[01;34m떡국_만두국\u001b[0m/  \u001b[01;34m삼겹살\u001b[0m/      \u001b[01;34m유부초밥\u001b[0m/  \u001b[01;34m주먹밥\u001b[0m/\n",
            "\u001b[01;34m갈치구이\u001b[0m/  \u001b[01;34m고등어구이\u001b[0m/  \u001b[01;34m누룽지\u001b[0m/    \u001b[01;34m무국\u001b[0m/         \u001b[01;34m새우볶음밥\u001b[0m/  \u001b[01;34m육개장\u001b[0m/    \u001b[01;34m콩나물국\u001b[0m\u001b[K/\n",
            "\u001b[01;34m감자전\u001b[0m/    \u001b[01;34m곱창구이\u001b[0m/    \u001b[01;34m닭갈비\u001b[0m/    \u001b[01;34m미역국\u001b[0m/       \u001b[01;34m생선전\u001b[0m/      \u001b[01;34m잡곡밥\u001b[0m/    \u001b[01;34m파전\u001b[0m/\n",
            "\u001b[01;34m경단\u001b[0m/      \u001b[01;34m김밥\u001b[0m/        \u001b[01;34m더덕구이\u001b[0m/  \u001b[01;34m북엇국\u001b[0m/       \u001b[01;34m송편\u001b[0m/        \u001b[01;34m장어구이\u001b[0m/  \u001b[01;34m호박전\u001b[0m/\n",
            "\u001b[01;34m계란국\u001b[0m/    \u001b[01;34m김치볶음밥\u001b[0m/  \u001b[01;34m동그랑땡\u001b[0m/  \u001b[01;34m불고기\u001b[0m/       \u001b[01;34m시래기국\u001b[0m/    \u001b[01;34m조개구이\u001b[0m/  \u001b[01;34m황태구이\u001b[0m/\n",
            "\u001b[01;34m계란말이\u001b[0m/  \u001b[01;34m김치전\u001b[0m/      \u001b[01;34m떡갈비\u001b[0m/    \u001b[01;34m비빔밥\u001b[0m/       \u001b[01;34m알밥\u001b[0m/        \u001b[01;34m조기구이\u001b[0m/  \u001b[01;34m훈제오리\u001b[0m/\n"
          ]
        }
      ],
      "source": [
        "ls"
      ]
    },
    {
      "cell_type": "code",
      "execution_count": null,
      "metadata": {
        "id": "4OfY6HDgDVqF"
      },
      "outputs": [],
      "source": [
        "import torch\n",
        "import torch.nn as nn\n",
        "import numpy as np\n",
        "import torch.optim as optim\n",
        "import torchvision\n",
        "import torchvision.transforms as transforms\n",
        "from torchvision import models\n",
        "import torchvision.models as models\n",
        "from torch.utils.data import DataLoader, random_split\n",
        "from torchvision.datasets import ImageFolder\n",
        "import matplotlib.pyplot as plt\n",
        "import os\n",
        "import unicodedata\n",
        "import matplotlib.image as mpimg\n",
        "from torch.utils.data import DataLoader\n",
        "import natsort\n",
        "from torchvision import models\n",
        "import torch.nn.functional as F\n",
        "from torchsummary import summary\n",
        "import warnings\n",
        "import time"
      ]
    },
    {
      "cell_type": "code",
      "execution_count": null,
      "metadata": {
        "id": "mNPRK8gVDNLY"
      },
      "outputs": [],
      "source": [
        "# CUDA 사용 가능 여부 확인 및 디바이스 설정\n",
        "device = torch.device('cuda:0' if torch.cuda.is_available() else 'cpu')"
      ]
    },
    {
      "cell_type": "code",
      "execution_count": null,
      "metadata": {
        "id": "csTDCaZBDTTG"
      },
      "outputs": [],
      "source": [
        "# 데이터셋 경로 설정\n",
        "data_root = \"/content/drive/MyDrive\"\n",
        "train_dir = os.path.join(data_root, \"train\")\n",
        "val_dir = os.path.join(data_root, \"val\")"
      ]
    },
    {
      "cell_type": "code",
      "execution_count": null,
      "metadata": {
        "id": "c3G0BVgLDbEW"
      },
      "outputs": [],
      "source": [
        "# 이미지 전처리 및 데이터셋 설정\n",
        "transform = transforms.Compose([transforms.Resize((224, 224)),\n",
        "                               transforms.ToTensor(),\n",
        "                               transforms.Normalize((0.485, 0.456, 0.406), (0.229, 0.224, 0.225))])\n",
        "\n",
        "train_dataset = ImageFolder(train_dir, transform=transform)\n",
        "val_dataset = ImageFolder(val_dir, transform=transform)\n",
        "\n",
        "# 데이터로더 설정\n",
        "batch_size = 16\n",
        "trainloader = DataLoader(train_dataset, batch_size=batch_size, shuffle=True)\n",
        "valloader = DataLoader(val_dataset, batch_size=batch_size, shuffle=False)"
      ]
    },
    {
      "cell_type": "code",
      "execution_count": null,
      "metadata": {
        "colab": {
          "base_uri": "https://localhost:8080/",
          "height": 490
        },
        "id": "xgo6M4bfDe4t",
        "outputId": "aebc5365-c6ab-457f-c258-ef70c7dac1b3"
      },
      "outputs": [],
      "source": [
        "menu_folders = os.listdir(train_dir)\n",
        "menu_folders = natsort.natsorted(menu_folders)\n",
        "def imshow(img):\n",
        "    img = img / 2 + 0.5  #unnormalize\n",
        "    npimg = img.numpy()\n",
        "    plt.imshow(np.transpose(npimg, (1, 2, 0)))\n",
        "    plt.show()\n",
        "\n",
        "dataiter = iter(train_loader)\n",
        "images, labels = next(dataiter)\n",
        "\n",
        "imshow(torchvision.utils.make_grid(images))\n",
        "print(' '.join(f'{menu_folders[labels[j]]:5s}' for j in range(batch_size)))"
      ]
    },
    {
      "cell_type": "code",
      "execution_count": null,
      "metadata": {
        "colab": {
          "base_uri": "https://localhost:8080/"
        },
        "id": "o2WJDmXDDlG6",
        "outputId": "3bceb2ba-cd6e-48da-eaad-7936d4a702fe"
      },
      "outputs": [],
      "source": [
        "!sudo apt-get install -y fonts-nanum*"
      ]
    },
    {
      "cell_type": "code",
      "execution_count": null,
      "metadata": {
        "id": "7MHrTUeVEYNt"
      },
      "outputs": [],
      "source": [
        "import matplotlib.font_manager as fm\n",
        "\n",
        "# 나눔 폰트 설정\n",
        "font_path = '/usr/share/fonts/truetype/nanum/NanumGothic.ttf'\n",
        "fm.fontManager.addfont(font_path)\n",
        "\n",
        "plt.rcParams['font.family'] = 'NanumGothic'  # 폰트 패밀리 이름 (폰트 파일명과 동일해야 함)\n",
        "plt.rcParams['font.size'] = 12"
      ]
    },
    {
      "cell_type": "code",
      "execution_count": null,
      "metadata": {
        "colab": {
          "base_uri": "https://localhost:8080/",
          "height": 1000
        },
        "id": "GE06RTQGEnOE",
        "outputId": "0401a2c8-f791-4171-dcb4-9416afa6b416"
      },
      "outputs": [],
      "source": [
        "plt.figure(figsize=(15, 15))\n",
        "\n",
        "for i, trainfolder in enumerate(menu_folders):\n",
        "    trainmenu_path = os.path.join(train_dir, trainfolder)\n",
        "    imgfiles = os.listdir(trainmenu_path)\n",
        "\n",
        "    for j, imgfile in enumerate(imgfiles[:1]):  # Take 1 image from each folder\n",
        "        imgpath = os.path.join(trainmenu_path, imgfile)\n",
        "        img = mpimg.imread(imgpath)\n",
        "\n",
        "        name = unicodedata.normalize('NFC', trainfolder)  # Normalize the folder name\n",
        "        plt.subplot(7, 7, i + 1)\n",
        "        plt.imshow(img)\n",
        "        plt.title(name)\n",
        "        plt.axis('off')\n",
        "\n",
        "plt.show()\n"
      ]
    },
    {
      "cell_type": "code",
      "execution_count": null,
      "metadata": {
        "id": "a7uww8tJGedD"
      },
      "outputs": [],
      "source": [
        "warnings.filterwarnings(\"ignore\", category=UserWarning)"
      ]
    },
    {
      "cell_type": "code",
      "execution_count": null,
      "metadata": {
        "colab": {
          "base_uri": "https://localhost:8080/"
        },
        "id": "ecYdb1pZGjOd",
        "outputId": "8e4df55f-9828-4e45-cbeb-c2d70665fcd3"
      },
      "outputs": [],
      "source": [
        "# 모델 정의 (ResNet-18)\n",
        "resnet18 = models.resnet18(pretrained=False)\n",
        "\n",
        "# 마지막 Fully Connected Layer 변경\n",
        "num_classes = 42  # 클래스 수\n",
        "resnet18.fc = nn.Linear(resnet18.fc.in_features, num_classes)\n",
        "# 모델을 GPU로 이동\n",
        "device = 'cuda' if torch.cuda.is_available() else 'cpu'\n",
        "resnet18.to(device)"
      ]
    },
    {
      "cell_type": "code",
      "execution_count": null,
      "metadata": {
        "id": "nabyRKPpGriO"
      },
      "outputs": [],
      "source": [
        "# Loss 및 Optimizer 정의\n",
        "criterion = nn.CrossEntropyLoss()\n",
        "optimizer = optim.SGD(resnet18.parameters(), lr=0.01, momentum=0.9)"
      ]
    },
    {
      "cell_type": "code",
      "execution_count": null,
      "metadata": {
        "id": "1abwvzpKBE5w"
      },
      "outputs": [],
      "source": [
        "# 모델 저장 코드\n",
        "model_save_path = '/content/drive/MyDrive/model_path/mission1.pt'"
      ]
    },
    {
      "cell_type": "code",
      "execution_count": null,
      "metadata": {
        "colab": {
          "base_uri": "https://localhost:8080/",
          "height": 105
        },
        "id": "6HcnPO2VArP1",
        "outputId": "76726b01-b338-461b-aa0e-33b36ee8ff9f"
      },
      "outputs": [
        {
          "data": {
            "application/vnd.google.colaboratory.intrinsic+json": {
              "type": "string"
            },
            "text/plain": [
              "\"\\n# 초기 모델 학습\\n# Training loop\\nnum_epochs = 50\\nsave_epochs = 1\\n\\nfor epoch in range(num_epochs):\\n    resnet18.train()\\n    running_loss = 0.0\\n\\n    for i, data in enumerate(trainloader, 0):\\n        inputs, labels = data[0].to(device), data[1].to(device)\\n\\n        optimizer.zero_grad()\\n\\n        outputs = resnet18(inputs)\\n        loss = criterion(outputs, labels)\\n        loss.backward()\\n        optimizer.step()\\n\\n        running_loss += loss.item()\\n        if i % 500 == 499:\\n            print(f'Epoch {epoch + 1}, Batch {i + 1}, Loss: {running_loss / 100:.3f}')\\n            running_loss = 0.0\\n\\n    # 학습이 완료된 후 모델 저장\\n    if (epoch + 1) % save_epochs == 0:\\n        checkpoint = {\\n            'epoch': epoch + 1,\\n            'model_state_dict': resnet18.state_dict(),\\n            'optimizer_state_dict': optimizer.state_dict(),\\n            'loss': loss.item(),\\n        }\\n        torch.save(checkpoint, model_save_path)\\n\""
            ]
          },
          "execution_count": 27,
          "metadata": {},
          "output_type": "execute_result"
        }
      ],
      "source": [
        "# 초기 모델 학습\n",
        "# Training loop\n",
        "num_epochs = 50\n",
        "save_epochs = 1\n",
        "\n",
        "for epoch in range(num_epochs):\n",
        "    resnet18.train()\n",
        "    running_loss = 0.0\n",
        "\n",
        "    for i, data in enumerate(trainloader, 0):\n",
        "        inputs, labels = data[0].to(device), data[1].to(device)\n",
        "\n",
        "        optimizer.zero_grad()\n",
        "\n",
        "        outputs = resnet18(inputs)\n",
        "        loss = criterion(outputs, labels)\n",
        "        loss.backward()\n",
        "        optimizer.step()\n",
        "\n",
        "        running_loss += loss.item()\n",
        "        if i % 500 == 499:\n",
        "            print(f'Epoch {epoch + 1}, Batch {i + 1}, Loss: {running_loss / 100:.3f}')\n",
        "            running_loss = 0.0\n",
        "\n",
        "    # 학습이 완료된 후 모델 저장\n",
        "    if (epoch + 1) % save_epochs == 0:\n",
        "        checkpoint = {\n",
        "            'epoch': epoch + 1,\n",
        "            'model_state_dict': resnet18.state_dict(),\n",
        "            'optimizer_state_dict': optimizer.state_dict(),\n",
        "            'loss': loss.item(),\n",
        "        }\n",
        "        torch.save(checkpoint, model_save_path)"
      ]
    },
    {
      "cell_type": "markdown",
      "metadata": {
        "id": "yzQRLlqPQfEB"
      },
      "source": [
        "학습된 모델을 불러온 후 이어서 학습"
      ]
    },
    {
      "cell_type": "code",
      "execution_count": null,
      "metadata": {
        "id": "TO4qvLF5Qt6h"
      },
      "outputs": [],
      "source": [
        "# 모델 저장 코드\n",
        "model_load_path = '/content/drive/MyDrive/dcc_model.pth'\n",
        "model_save_path = '/content/drive/MyDrive/model_path/mission1.pt'"
      ]
    },
    {
      "cell_type": "code",
      "execution_count": null,
      "metadata": {
        "id": "cnxVhA4doJ0y"
      },
      "outputs": [],
      "source": [
        "#모델 불러온 후 이어서 학습\n",
        "# 모델 불러오기\n",
        "checkpoint = torch.load(model_load_path)\n",
        "resnet18.load_state_dict(checkpoint['model_state_dict'])\n",
        "optimizer.load_state_dict(checkpoint['optimizer_state_dict'])\n",
        "epochs = checkpoint['epoch']\n",
        "loss = checkpoint['loss']"
      ]
    },
    {
      "cell_type": "code",
      "execution_count": null,
      "metadata": {
        "colab": {
          "base_uri": "https://localhost:8080/",
          "height": 1000
        },
        "id": "UQMEWOmdA9eA",
        "outputId": "879f113d-350a-4b0a-a510-97bbe4903fe7"
      },
      "outputs": [
        {
          "name": "stdout",
          "output_type": "stream",
          "text": [
            "Epoch 31, Batch 500, Loss: 0.057\n",
            "Epoch 31, Batch 1000, Loss: 0.050\n",
            "Epoch 31, Batch 1500, Loss: 0.082\n",
            "Epoch 31, Batch 2000, Loss: 0.078\n",
            "Validation Accuracy after 31 epochs: 70.22%\n",
            "Epoch 32, Batch 500, Loss: 0.053\n",
            "Epoch 32, Batch 1000, Loss: 0.071\n",
            "Epoch 32, Batch 1500, Loss: 0.059\n",
            "Epoch 32, Batch 2000, Loss: 0.050\n",
            "Validation Accuracy after 32 epochs: 69.70%\n",
            "Epoch 33, Batch 500, Loss: 0.034\n",
            "Epoch 33, Batch 1000, Loss: 0.038\n",
            "Epoch 33, Batch 1500, Loss: 0.044\n",
            "Epoch 33, Batch 2000, Loss: 0.046\n",
            "Validation Accuracy after 33 epochs: 68.60%\n",
            "Epoch 34, Batch 500, Loss: 0.055\n",
            "Epoch 34, Batch 1000, Loss: 0.048\n",
            "Epoch 34, Batch 1500, Loss: 0.029\n",
            "Epoch 34, Batch 2000, Loss: 0.044\n",
            "Validation Accuracy after 34 epochs: 69.58%\n",
            "Epoch 35, Batch 500, Loss: 0.051\n",
            "Epoch 35, Batch 1000, Loss: 0.057\n",
            "Epoch 35, Batch 1500, Loss: 0.048\n",
            "Epoch 35, Batch 2000, Loss: 0.061\n",
            "Validation Accuracy after 35 epochs: 70.08%\n",
            "Epoch 36, Batch 500, Loss: 0.052\n",
            "Epoch 36, Batch 1000, Loss: 0.049\n",
            "Epoch 36, Batch 1500, Loss: 0.046\n",
            "Epoch 36, Batch 2000, Loss: 0.029\n",
            "Validation Accuracy after 36 epochs: 70.03%\n",
            "Epoch 37, Batch 500, Loss: 0.027\n",
            "Epoch 37, Batch 1000, Loss: 0.042\n",
            "Epoch 37, Batch 1500, Loss: 0.027\n",
            "Epoch 37, Batch 2000, Loss: 0.035\n",
            "Validation Accuracy after 37 epochs: 68.99%\n",
            "Epoch 38, Batch 500, Loss: 0.024\n",
            "Epoch 38, Batch 1000, Loss: 0.039\n",
            "Epoch 38, Batch 1500, Loss: 0.029\n",
            "Epoch 38, Batch 2000, Loss: 0.036\n",
            "Validation Accuracy after 38 epochs: 69.91%\n",
            "Epoch 39, Batch 500, Loss: 0.017\n",
            "Epoch 39, Batch 1000, Loss: 0.027\n",
            "Epoch 39, Batch 1500, Loss: 0.025\n",
            "Epoch 39, Batch 2000, Loss: 0.054\n",
            "Validation Accuracy after 39 epochs: 70.46%\n",
            "Epoch 40, Batch 500, Loss: 0.021\n",
            "Epoch 40, Batch 1000, Loss: 0.026\n",
            "Epoch 40, Batch 1500, Loss: 0.027\n",
            "Epoch 40, Batch 2000, Loss: 0.037\n",
            "Validation Accuracy after 40 epochs: 71.03%\n",
            "Epoch 41, Batch 500, Loss: 0.024\n",
            "Epoch 41, Batch 1000, Loss: 0.029\n",
            "Epoch 41, Batch 1500, Loss: 0.022\n",
            "Epoch 41, Batch 2000, Loss: 0.029\n",
            "Validation Accuracy after 41 epochs: 70.25%\n",
            "Epoch 42, Batch 500, Loss: 0.032\n",
            "Epoch 42, Batch 1000, Loss: 0.027\n",
            "Epoch 42, Batch 1500, Loss: 0.028\n",
            "Epoch 42, Batch 2000, Loss: 0.035\n",
            "Validation Accuracy after 42 epochs: 70.44%\n",
            "Epoch 43, Batch 500, Loss: 0.030\n",
            "Epoch 43, Batch 1000, Loss: 0.018\n",
            "Epoch 43, Batch 1500, Loss: 0.017\n",
            "Epoch 43, Batch 2000, Loss: 0.025\n",
            "Validation Accuracy after 43 epochs: 71.11%\n",
            "Epoch 44, Batch 500, Loss: 0.011\n",
            "Epoch 44, Batch 1000, Loss: 0.022\n",
            "Epoch 44, Batch 1500, Loss: 0.020\n",
            "Epoch 44, Batch 2000, Loss: 0.021\n",
            "Validation Accuracy after 44 epochs: 71.03%\n",
            "Epoch 45, Batch 500, Loss: 0.021\n",
            "Epoch 45, Batch 1000, Loss: 0.058\n",
            "Epoch 45, Batch 1500, Loss: 0.026\n",
            "Epoch 45, Batch 2000, Loss: 0.022\n",
            "Validation Accuracy after 45 epochs: 71.06%\n",
            "Epoch 46, Batch 500, Loss: 0.014\n",
            "Epoch 46, Batch 1000, Loss: 0.016\n",
            "Epoch 46, Batch 1500, Loss: 0.015\n",
            "Epoch 46, Batch 2000, Loss: 0.015\n",
            "Validation Accuracy after 46 epochs: 70.51%\n",
            "Epoch 47, Batch 500, Loss: 0.031\n",
            "Epoch 47, Batch 1000, Loss: 0.012\n",
            "Epoch 47, Batch 1500, Loss: 0.020\n",
            "Epoch 47, Batch 2000, Loss: 0.020\n",
            "Validation Accuracy after 47 epochs: 71.41%\n",
            "Epoch 48, Batch 500, Loss: 0.015\n",
            "Epoch 48, Batch 1000, Loss: 0.018\n",
            "Epoch 48, Batch 1500, Loss: 0.013\n",
            "Epoch 48, Batch 2000, Loss: 0.016\n",
            "Validation Accuracy after 48 epochs: 71.39%\n",
            "Epoch 49, Batch 500, Loss: 0.028\n",
            "Epoch 49, Batch 1000, Loss: 0.013\n",
            "Epoch 49, Batch 1500, Loss: 0.021\n",
            "Epoch 49, Batch 2000, Loss: 0.015\n",
            "Validation Accuracy after 49 epochs: 70.82%\n",
            "Epoch 50, Batch 500, Loss: 0.011\n",
            "Epoch 50, Batch 1000, Loss: 0.011\n",
            "Epoch 50, Batch 1500, Loss: 0.019\n",
            "Epoch 50, Batch 2000, Loss: 0.024\n",
            "Validation Accuracy after 50 epochs: 70.39%\n",
            "Continued Training Finished\n"
          ]
        },
        {
          "data": {
            "image/png": "[encoded data removed]",
            "text/plain": [
              "<Figure size 640x480 with 1 Axes>"
            ]
          },
          "metadata": {},
          "output_type": "display_data"
        }
      ],
      "source": [
        "# 정확도 저장용 리스트\n",
        "accuracy_list = []\n",
        "# 이어서 학습할 에폭 수\n",
        "additional_epochs = 20\n",
        "# 모델을 저장하는 epoch주기\n",
        "save_epochs = 1\n",
        "# 검증 주기\n",
        "validation_epochs = 1\n",
        "# Training loop (이어서 학습)\n",
        "for epoch in range(epochs, epochs + additional_epochs):\n",
        "    resnet18.train()\n",
        "    running_loss = 0.0\n",
        "\n",
        "    for i, data in enumerate(trainloader, 0):\n",
        "        inputs, labels = data[0].to(device), data[1].to(device)\n",
        "\n",
        "        optimizer.zero_grad()\n",
        "\n",
        "        outputs = resnet18(inputs)\n",
        "        loss = criterion(outputs, labels)\n",
        "        loss.backward()\n",
        "        optimizer.step()\n",
        "\n",
        "        running_loss += loss.item()\n",
        "        if i % 500 == 499:\n",
        "            print(f'Epoch {epoch + 1}, Batch {i + 1}, Loss: {running_loss / 100:.3f}')\n",
        "            running_loss = 0.0\n",
        "\n",
        "    # 모델 저장 (필요한 경우)\n",
        "    if (epoch + 1) % save_epochs == 0:\n",
        "        checkpoint = {\n",
        "            'epoch': epoch + 1,\n",
        "            'model_state_dict': resnet18.state_dict(),\n",
        "            'optimizer_state_dict': optimizer.state_dict(),\n",
        "            'loss': loss,\n",
        "        }\n",
        "        torch.save(checkpoint, model_save_path)\n",
        "\n",
        "   # Initialize misclassified_examples list before the loop\n",
        "    misclassified_examples = []\n",
        "\n",
        "# 검증 데이터셋을 이용하여 accuracy를 계산하고 출력\n",
        "    if epoch % validation_epochs == 0:\n",
        "        resnet18.eval()  # 모델을 평가 모드로 전환\n",
        "        correct = 0\n",
        "        total = 0\n",
        "\n",
        "        with torch.no_grad():\n",
        "            for data in val_loader:\n",
        "                inputs, labels = data[0].to(device), data[1].to(device)\n",
        "                outputs = resnet18(inputs)\n",
        "                _, predicted = torch.max(outputs.data, 1)\n",
        "                total += labels.size(0)\n",
        "                correct += (predicted == labels).sum().item()\n",
        "           # 잘못 분류된 경우 확인\n",
        "\n",
        "            misclassified_mask = predicted != labels\n",
        "            misclassified_examples.extend([(inputs[i], predicted[i].item(), labels[i].item()) for i, is_misclassified in enumerate(misclassified_mask) if is_misclassified])\n",
        "\n",
        "\n",
        "        accuracy = 100 * correct / total\n",
        "        accuracy_list.append(accuracy)  # accuracy 리스트에 추가\n",
        "        print(f'Validation Accuracy after {epoch+1} epochs: {accuracy:.2f}%')\n",
        "\n",
        "        resnet18.train()  # 모델을 다시 학습 모드로 전환\n",
        "\n",
        "print('Continued Training Finished')\n",
        "\n",
        "# 에폭별 accuracy 시각화\n",
        "plt.plot(range(epochs + 1, epochs + additional_epochs + 1), accuracy_list, marker='o')\n",
        "plt.xlabel('Epochs')\n",
        "plt.ylabel('Accuracy (%)')\n",
        "plt.title('Validation Accuracy Over Epochs')\n",
        "plt.grid(True)\n",
        "plt.ylim(65, 100)\n",
        "plt.show()"
      ]
    },
    {
      "cell_type": "code",
      "execution_count": null,
      "metadata": {
        "colab": {
          "background_save": true,
          "base_uri": "https://localhost:8080/",
          "height": 1000
        },
        "id": "L5ZX9jUQqYjH",
        "outputId": "9b95f5fa-232f-455e-94a1-0d97672459b6"
      },
      "outputs": [],
      "source": [
        "num_epochs = 50 #총 학습할 에폭 수\n",
        "# Validation\n",
        "resnet18.eval()  # 평가 모드로 설정\n",
        "correct = 0\n",
        "total = 0\n",
        "\n",
        "# 각 클래스별 정확도를 저장하기 위한 리스트 초기화\n",
        "class_correct = [0] * len(menu_folders)\n",
        "class_total = [0] * len(menu_folders)\n",
        "\n",
        "# 맞춘 이미지와 못 맞춘 이미지를 저장하기 위한 리스트 초기화\n",
        "correct_samples = []\n",
        "incorrect_samples = []\n",
        "\n",
        "with torch.no_grad():\n",
        "    for data in valloader:\n",
        "        inputs, labels = data[0].to(device), data[1].to(device)\n",
        "        outputs = resnet18(inputs)\n",
        "        _, predicted = torch.max(outputs, 1)\n",
        "\n",
        "        total += labels.size(0)\n",
        "        correct += (predicted == labels).sum().item()\n",
        "\n",
        "        # 각 클래스별로 정확도 계산\n",
        "        for i in range(len(labels)):\n",
        "            label = labels[i].item()\n",
        "            class_correct[label] += (predicted[i] == label).item()\n",
        "            class_total[label] += 1\n",
        "            # 맞춘 이미지와 못 맞춘 이미지를 분류\n",
        "            if predicted[i] == label:\n",
        "                correct_samples.append((inputs[i], label))\n",
        "            else:\n",
        "                incorrect_samples.append((inputs[i], label, predicted[i]))\n",
        "\n",
        "accuracy = 100 * correct / total\n",
        "\n",
        "# 현재 epoch 결과 출력\n",
        "print(f'Epoch [{epoch+1}/{num_epochs}], Loss: {loss/len(trainloader):.4f}, Accuracy: {accuracy:.2f}%')\n",
        "print(f'Validation Accuracy: {accuracy:.2f}%')\n",
        "\n",
        "# 각 클래스별 정확도 출력\n",
        "for i, folder in enumerate(menu_folders):\n",
        "    class_acc = 100 * class_correct[i] / class_total[i]\n",
        "    print(f'Accuracy for class: {folder} is {class_acc:.2f}%')\n",
        "\n",
        "num_images_per_folder = 3  # 각 폴더에서 출력할 이미지 수\n",
        "# 맞춘 이미지와 못 맞춘 이미지 출력\n",
        "# 맞춘 이미지 출력\n",
        "'''\n",
        "for i, (input, true_label) in enumerate(incorrect_sample):\n",
        "    input_cpu = input.cpu()  # 이미지를 CPU로 복사\n",
        "    print(f'Sample {i + 1}: Correctly predicted - True label: {menu_folders[true_label]}')\n",
        "    imshow(input_cpu)  # CPU 이미지 출력\n",
        "'''\n",
        "\n",
        "for folder_index, folder_name in enumerate(menu_folders):\n",
        "    # 각 폴더에 대해 출력할 이미지 선택\n",
        "    folder_images = [(input, true_label, predicted_label) for input, true_label, predicted_label in incorrect_samples if true_label == folder_index]\n",
        "    num_images_to_display = min(num_images_per_folder, len(folder_images))  # 폴더에서 출력할 이미지 수 선택\n",
        "\n",
        "    for i, (input, true_label, predicted_label) in enumerate(folder_images[:num_images_to_display]):\n",
        "        input_cpu = input.cpu()\n",
        "        print(f'Sample {i + 1}: Incorrectly predicted - True label: {menu_folders[true_label]}, Predicted label: {menu_folders[predicted_label]}')\n",
        "        imshow(input_cpu)  # CPU 이미지 출력\n",
        "\n",
        "print('Finished Training')\n"
      ]
    }
  ],
  "metadata": {
    "accelerator": "GPU",
    "colab": {
      "provenance": []
    },
    "kernelspec": {
      "display_name": "Python 3",
      "name": "python3"
    },
    "language_info": {
      "name": "python"
    }
  },
  "nbformat": 4,
  "nbformat_minor": 0
}
